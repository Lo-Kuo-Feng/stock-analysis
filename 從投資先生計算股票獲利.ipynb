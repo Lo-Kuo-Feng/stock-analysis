{
 "cells": [
  {
   "cell_type": "code",
   "execution_count": 1,
   "metadata": {
    "collapsed": true
   },
   "outputs": [],
   "source": [
    "def liquidation(original_capital:\"\" = 100,\n",
    "                stock_price:\"股價\" = 100, \n",
    "                buy_amount:\"股票張數\" = 1, \n",
    "                fee_ratio:\"手續費\" = 0.001425,\n",
    "                fee_ratio_discount:\"手續費折數\" =0.6, \n",
    "                tax_ratio:\"稅率\" = 0.003, \n",
    "                tax_ratio_discount:\"稅率折數\" = 1): \n",
    "    \n",
    "    \n",
    "    fee = stock_price * 1000 * fee_ratio * fee_ratio_discount if stock_price * 1000 * fee_ratio * fee_ratio_discount > 20 else 20\n",
    "    tax = stock_price * 1000 * tax_ratio * tax_ratio_discount\n",
    "    profit = stock_price*1000 - fee - tax - original_capital*1000\n",
    "    print(\"手續費\",fee)\n",
    "    print(\"稅\",tax)\n",
    "    print(\"獲利{:.3f}({:.3f}%)\".format(profit, profit/(original_capital*1000)))\n",
    "    return profit"
   ]
  },
  {
   "cell_type": "code",
   "execution_count": 2,
   "metadata": {},
   "outputs": [
    {
     "name": "stdout",
     "output_type": "stream",
     "text": [
      "手續費 22.23\n",
      "稅 78.0\n",
      "獲利1899.770(0.079%)\n"
     ]
    },
    {
     "data": {
      "text/plain": [
       "1899.7700000000004"
      ]
     },
     "execution_count": 2,
     "metadata": {},
     "output_type": "execute_result"
    }
   ],
   "source": [
    "liquidation(original_capital=24, stock_price=26)"
   ]
  },
  {
   "cell_type": "code",
   "execution_count": null,
   "metadata": {
    "collapsed": true
   },
   "outputs": [],
   "source": []
  }
 ],
 "metadata": {
  "kernelspec": {
   "display_name": "Python 3",
   "language": "python",
   "name": "python3"
  },
  "language_info": {
   "codemirror_mode": {
    "name": "ipython",
    "version": 3
   },
   "file_extension": ".py",
   "mimetype": "text/x-python",
   "name": "python",
   "nbconvert_exporter": "python",
   "pygments_lexer": "ipython3",
   "version": "3.6.3"
  }
 },
 "nbformat": 4,
 "nbformat_minor": 2
}
