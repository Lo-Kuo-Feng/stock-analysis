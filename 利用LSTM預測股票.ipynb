{
 "cells": [
  {
   "cell_type": "code",
   "execution_count": 1,
   "metadata": {},
   "outputs": [
    {
     "name": "stdout",
     "output_type": "stream",
     "text": [
      "Collecting pandas-datareader\n",
      "  Downloading https://files.pythonhosted.org/packages/cc/5c/ea5b6dcfd0f55c5fb1e37fb45335ec01cceca199b8a79339137f5ed269e0/pandas_datareader-0.7.0-py2.py3-none-any.whl (111kB)\n",
      "Requirement already satisfied: pandas>=0.19.2 in c:\\users\\user\\anaconda3\\lib\\site-packages (from pandas-datareader) (0.20.3)\n",
      "Requirement already satisfied: lxml in c:\\users\\user\\anaconda3\\lib\\site-packages (from pandas-datareader) (4.1.0)\n",
      "Requirement already satisfied: requests>=2.3.0 in c:\\users\\user\\anaconda3\\lib\\site-packages (from pandas-datareader) (2.18.4)\n",
      "Requirement already satisfied: wrapt in c:\\users\\user\\anaconda3\\lib\\site-packages (from pandas-datareader) (1.10.11)\n",
      "Requirement already satisfied: python-dateutil>=2 in c:\\users\\user\\anaconda3\\lib\\site-packages (from pandas>=0.19.2->pandas-datareader) (2.6.1)\n",
      "Requirement already satisfied: pytz>=2011k in c:\\users\\user\\anaconda3\\lib\\site-packages (from pandas>=0.19.2->pandas-datareader) (2017.2)\n",
      "Requirement already satisfied: numpy>=1.7.0 in c:\\users\\user\\anaconda3\\lib\\site-packages (from pandas>=0.19.2->pandas-datareader) (1.13.3)\n",
      "Requirement already satisfied: chardet<3.1.0,>=3.0.2 in c:\\users\\user\\anaconda3\\lib\\site-packages (from requests>=2.3.0->pandas-datareader) (3.0.4)\n",
      "Requirement already satisfied: idna<2.7,>=2.5 in c:\\users\\user\\anaconda3\\lib\\site-packages (from requests>=2.3.0->pandas-datareader) (2.6)\n",
      "Requirement already satisfied: urllib3<1.23,>=1.21.1 in c:\\users\\user\\anaconda3\\lib\\site-packages (from requests>=2.3.0->pandas-datareader) (1.22)\n",
      "Requirement already satisfied: certifi>=2017.4.17 in c:\\users\\user\\anaconda3\\lib\\site-packages (from requests>=2.3.0->pandas-datareader) (2018.4.16)\n",
      "Requirement already satisfied: six>=1.5 in c:\\users\\user\\anaconda3\\lib\\site-packages (from python-dateutil>=2->pandas>=0.19.2->pandas-datareader) (1.11.0)\n",
      "Installing collected packages: pandas-datareader\n",
      "Successfully installed pandas-datareader-0.7.0\n"
     ]
    },
    {
     "name": "stderr",
     "output_type": "stream",
     "text": [
      "You are using pip version 10.0.1, however version 18.1 is available.\n",
      "You should consider upgrading via the 'python -m pip install --upgrade pip' command.\n"
     ]
    }
   ],
   "source": [
    "# ! pip install pandas-datareader"
   ]
  },
  {
   "cell_type": "code",
   "execution_count": null,
   "metadata": {
    "collapsed": true
   },
   "outputs": [],
   "source": [
    "# import pandas_datareader\n",
    "# df = pandas_datareader.get_data_yahoo('goog')"
   ]
  },
  {
   "cell_type": "code",
   "execution_count": null,
   "metadata": {
    "collapsed": true
   },
   "outputs": [],
   "source": [
    "# https://www.cnyes.com/twstock/ps_historyprice/2317.htm#"
   ]
  },
  {
   "cell_type": "code",
   "execution_count": 26,
   "metadata": {
    "collapsed": true
   },
   "outputs": [],
   "source": [
    "import pandas as pd\n",
    "\n",
    "names = ['日期','開盤','最高','最低','收盤','漲跌','漲%','成交量','成交金額','本益比']\n",
    "df = pd.read_excel('鴻海2317.xlsx', header=None, names=names)"
   ]
  },
  {
   "cell_type": "code",
   "execution_count": 27,
   "metadata": {
    "scrolled": true
   },
   "outputs": [
    {
     "data": {
      "text/html": [
       "<div>\n",
       "<style>\n",
       "    .dataframe thead tr:only-child th {\n",
       "        text-align: right;\n",
       "    }\n",
       "\n",
       "    .dataframe thead th {\n",
       "        text-align: left;\n",
       "    }\n",
       "\n",
       "    .dataframe tbody tr th {\n",
       "        vertical-align: top;\n",
       "    }\n",
       "</style>\n",
       "<table border=\"1\" class=\"dataframe\">\n",
       "  <thead>\n",
       "    <tr style=\"text-align: right;\">\n",
       "      <th></th>\n",
       "      <th>日期</th>\n",
       "      <th>開盤</th>\n",
       "      <th>最高</th>\n",
       "      <th>最低</th>\n",
       "      <th>收盤</th>\n",
       "      <th>漲跌</th>\n",
       "      <th>漲%</th>\n",
       "      <th>成交量</th>\n",
       "      <th>成交金額</th>\n",
       "      <th>本益比</th>\n",
       "    </tr>\n",
       "  </thead>\n",
       "  <tbody>\n",
       "    <tr>\n",
       "      <th>0</th>\n",
       "      <td>2018-11-26</td>\n",
       "      <td>71.3</td>\n",
       "      <td>71.5</td>\n",
       "      <td>70.6</td>\n",
       "      <td>71.0</td>\n",
       "      <td>1.0</td>\n",
       "      <td>0.0143</td>\n",
       "      <td>25630</td>\n",
       "      <td>1820700</td>\n",
       "      <td>7.13</td>\n",
       "    </tr>\n",
       "    <tr>\n",
       "      <th>1</th>\n",
       "      <td>2018-11-23</td>\n",
       "      <td>69.9</td>\n",
       "      <td>70.4</td>\n",
       "      <td>69.6</td>\n",
       "      <td>70.0</td>\n",
       "      <td>0.5</td>\n",
       "      <td>0.0072</td>\n",
       "      <td>22631</td>\n",
       "      <td>1585309</td>\n",
       "      <td>7.03</td>\n",
       "    </tr>\n",
       "    <tr>\n",
       "      <th>2</th>\n",
       "      <td>2018-11-22</td>\n",
       "      <td>70.6</td>\n",
       "      <td>71.0</td>\n",
       "      <td>69.4</td>\n",
       "      <td>69.5</td>\n",
       "      <td>-1.1</td>\n",
       "      <td>-0.0156</td>\n",
       "      <td>32826</td>\n",
       "      <td>2295823</td>\n",
       "      <td>6.98</td>\n",
       "    </tr>\n",
       "    <tr>\n",
       "      <th>3</th>\n",
       "      <td>2018-11-21</td>\n",
       "      <td>69.0</td>\n",
       "      <td>70.9</td>\n",
       "      <td>68.9</td>\n",
       "      <td>70.6</td>\n",
       "      <td>-0.4</td>\n",
       "      <td>-0.0056</td>\n",
       "      <td>43288</td>\n",
       "      <td>3021077</td>\n",
       "      <td>7.09</td>\n",
       "    </tr>\n",
       "    <tr>\n",
       "      <th>4</th>\n",
       "      <td>2018-11-20</td>\n",
       "      <td>72.0</td>\n",
       "      <td>72.7</td>\n",
       "      <td>71.0</td>\n",
       "      <td>71.0</td>\n",
       "      <td>-2.4</td>\n",
       "      <td>-0.0327</td>\n",
       "      <td>41386</td>\n",
       "      <td>2960763</td>\n",
       "      <td>7.13</td>\n",
       "    </tr>\n",
       "    <tr>\n",
       "      <th>5</th>\n",
       "      <td>2018-11-19</td>\n",
       "      <td>73.7</td>\n",
       "      <td>73.8</td>\n",
       "      <td>73.1</td>\n",
       "      <td>73.4</td>\n",
       "      <td>-0.9</td>\n",
       "      <td>-0.0121</td>\n",
       "      <td>29570</td>\n",
       "      <td>2170533</td>\n",
       "      <td>7.37</td>\n",
       "    </tr>\n",
       "    <tr>\n",
       "      <th>6</th>\n",
       "      <td>2018-11-16</td>\n",
       "      <td>74.9</td>\n",
       "      <td>75.0</td>\n",
       "      <td>73.8</td>\n",
       "      <td>74.3</td>\n",
       "      <td>-0.2</td>\n",
       "      <td>-0.0027</td>\n",
       "      <td>23953</td>\n",
       "      <td>1779188</td>\n",
       "      <td>7.46</td>\n",
       "    </tr>\n",
       "    <tr>\n",
       "      <th>7</th>\n",
       "      <td>2018-11-15</td>\n",
       "      <td>73.3</td>\n",
       "      <td>75.4</td>\n",
       "      <td>72.5</td>\n",
       "      <td>74.5</td>\n",
       "      <td>1.2</td>\n",
       "      <td>0.0164</td>\n",
       "      <td>37827</td>\n",
       "      <td>2781987</td>\n",
       "      <td>7.48</td>\n",
       "    </tr>\n",
       "    <tr>\n",
       "      <th>8</th>\n",
       "      <td>2018-11-14</td>\n",
       "      <td>74.6</td>\n",
       "      <td>74.7</td>\n",
       "      <td>73.0</td>\n",
       "      <td>73.3</td>\n",
       "      <td>-1.1</td>\n",
       "      <td>-0.0148</td>\n",
       "      <td>35175</td>\n",
       "      <td>2598273</td>\n",
       "      <td>9.46</td>\n",
       "    </tr>\n",
       "    <tr>\n",
       "      <th>9</th>\n",
       "      <td>2018-11-13</td>\n",
       "      <td>74.4</td>\n",
       "      <td>74.8</td>\n",
       "      <td>73.8</td>\n",
       "      <td>74.4</td>\n",
       "      <td>-1.8</td>\n",
       "      <td>-0.0236</td>\n",
       "      <td>30660</td>\n",
       "      <td>2280729</td>\n",
       "      <td>9.60</td>\n",
       "    </tr>\n",
       "    <tr>\n",
       "      <th>10</th>\n",
       "      <td>2018-11-12</td>\n",
       "      <td>75.9</td>\n",
       "      <td>76.9</td>\n",
       "      <td>75.8</td>\n",
       "      <td>76.2</td>\n",
       "      <td>0.1</td>\n",
       "      <td>0.0013</td>\n",
       "      <td>20747</td>\n",
       "      <td>1581933</td>\n",
       "      <td>9.83</td>\n",
       "    </tr>\n",
       "    <tr>\n",
       "      <th>11</th>\n",
       "      <td>2018-11-09</td>\n",
       "      <td>76.5</td>\n",
       "      <td>76.6</td>\n",
       "      <td>75.5</td>\n",
       "      <td>76.1</td>\n",
       "      <td>-0.5</td>\n",
       "      <td>-0.0065</td>\n",
       "      <td>29100</td>\n",
       "      <td>2211521</td>\n",
       "      <td>9.82</td>\n",
       "    </tr>\n",
       "    <tr>\n",
       "      <th>12</th>\n",
       "      <td>2018-11-08</td>\n",
       "      <td>78.2</td>\n",
       "      <td>78.4</td>\n",
       "      <td>76.6</td>\n",
       "      <td>76.6</td>\n",
       "      <td>-1.3</td>\n",
       "      <td>-0.0167</td>\n",
       "      <td>30437</td>\n",
       "      <td>2350024</td>\n",
       "      <td>9.88</td>\n",
       "    </tr>\n",
       "    <tr>\n",
       "      <th>13</th>\n",
       "      <td>2018-11-07</td>\n",
       "      <td>78.4</td>\n",
       "      <td>78.4</td>\n",
       "      <td>77.4</td>\n",
       "      <td>77.9</td>\n",
       "      <td>0.6</td>\n",
       "      <td>0.0078</td>\n",
       "      <td>23707</td>\n",
       "      <td>1846575</td>\n",
       "      <td>10.05</td>\n",
       "    </tr>\n",
       "    <tr>\n",
       "      <th>14</th>\n",
       "      <td>2018-11-06</td>\n",
       "      <td>79.5</td>\n",
       "      <td>79.6</td>\n",
       "      <td>77.1</td>\n",
       "      <td>77.3</td>\n",
       "      <td>-2.7</td>\n",
       "      <td>-0.0338</td>\n",
       "      <td>26921</td>\n",
       "      <td>2104588</td>\n",
       "      <td>9.97</td>\n",
       "    </tr>\n",
       "    <tr>\n",
       "      <th>15</th>\n",
       "      <td>2018-11-05</td>\n",
       "      <td>81.0</td>\n",
       "      <td>81.0</td>\n",
       "      <td>79.5</td>\n",
       "      <td>80.0</td>\n",
       "      <td>-1.0</td>\n",
       "      <td>-0.0123</td>\n",
       "      <td>22357</td>\n",
       "      <td>1791848</td>\n",
       "      <td>10.32</td>\n",
       "    </tr>\n",
       "    <tr>\n",
       "      <th>16</th>\n",
       "      <td>2018-11-02</td>\n",
       "      <td>79.7</td>\n",
       "      <td>81.6</td>\n",
       "      <td>78.7</td>\n",
       "      <td>81.0</td>\n",
       "      <td>1.1</td>\n",
       "      <td>0.0138</td>\n",
       "      <td>33387</td>\n",
       "      <td>2681150</td>\n",
       "      <td>10.45</td>\n",
       "    </tr>\n",
       "    <tr>\n",
       "      <th>17</th>\n",
       "      <td>2018-11-01</td>\n",
       "      <td>79.0</td>\n",
       "      <td>80.0</td>\n",
       "      <td>78.7</td>\n",
       "      <td>79.9</td>\n",
       "      <td>1.1</td>\n",
       "      <td>0.0140</td>\n",
       "      <td>27825</td>\n",
       "      <td>2210831</td>\n",
       "      <td>10.31</td>\n",
       "    </tr>\n",
       "    <tr>\n",
       "      <th>18</th>\n",
       "      <td>2018-10-31</td>\n",
       "      <td>78.1</td>\n",
       "      <td>78.8</td>\n",
       "      <td>77.7</td>\n",
       "      <td>78.8</td>\n",
       "      <td>2.4</td>\n",
       "      <td>0.0314</td>\n",
       "      <td>38572</td>\n",
       "      <td>3025384</td>\n",
       "      <td>10.17</td>\n",
       "    </tr>\n",
       "    <tr>\n",
       "      <th>19</th>\n",
       "      <td>2018-10-30</td>\n",
       "      <td>75.5</td>\n",
       "      <td>76.5</td>\n",
       "      <td>75.3</td>\n",
       "      <td>76.4</td>\n",
       "      <td>0.9</td>\n",
       "      <td>0.0119</td>\n",
       "      <td>25361</td>\n",
       "      <td>1926689</td>\n",
       "      <td>9.86</td>\n",
       "    </tr>\n",
       "    <tr>\n",
       "      <th>20</th>\n",
       "      <td>2018-10-29</td>\n",
       "      <td>78.2</td>\n",
       "      <td>78.2</td>\n",
       "      <td>75.5</td>\n",
       "      <td>75.5</td>\n",
       "      <td>-0.7</td>\n",
       "      <td>-0.0092</td>\n",
       "      <td>37754</td>\n",
       "      <td>2895354</td>\n",
       "      <td>9.74</td>\n",
       "    </tr>\n",
       "    <tr>\n",
       "      <th>21</th>\n",
       "      <td>2018-10-26</td>\n",
       "      <td>79.8</td>\n",
       "      <td>79.8</td>\n",
       "      <td>75.5</td>\n",
       "      <td>76.2</td>\n",
       "      <td>8.1</td>\n",
       "      <td>0.1189</td>\n",
       "      <td>94813</td>\n",
       "      <td>7361024</td>\n",
       "      <td>9.83</td>\n",
       "    </tr>\n",
       "    <tr>\n",
       "      <th>22</th>\n",
       "      <td>2018-10-17</td>\n",
       "      <td>70.7</td>\n",
       "      <td>71.0</td>\n",
       "      <td>68.1</td>\n",
       "      <td>68.1</td>\n",
       "      <td>-2.3</td>\n",
       "      <td>-0.0327</td>\n",
       "      <td>86222</td>\n",
       "      <td>5990424</td>\n",
       "      <td>8.79</td>\n",
       "    </tr>\n",
       "    <tr>\n",
       "      <th>23</th>\n",
       "      <td>2018-10-16</td>\n",
       "      <td>70.1</td>\n",
       "      <td>70.5</td>\n",
       "      <td>70.0</td>\n",
       "      <td>70.4</td>\n",
       "      <td>-0.1</td>\n",
       "      <td>-0.0014</td>\n",
       "      <td>55483</td>\n",
       "      <td>3891574</td>\n",
       "      <td>9.08</td>\n",
       "    </tr>\n",
       "    <tr>\n",
       "      <th>24</th>\n",
       "      <td>2018-10-15</td>\n",
       "      <td>71.2</td>\n",
       "      <td>71.2</td>\n",
       "      <td>70.2</td>\n",
       "      <td>70.5</td>\n",
       "      <td>-1.4</td>\n",
       "      <td>-0.0195</td>\n",
       "      <td>37953</td>\n",
       "      <td>2683579</td>\n",
       "      <td>9.10</td>\n",
       "    </tr>\n",
       "    <tr>\n",
       "      <th>25</th>\n",
       "      <td>2018-10-12</td>\n",
       "      <td>70.0</td>\n",
       "      <td>72.0</td>\n",
       "      <td>69.7</td>\n",
       "      <td>71.9</td>\n",
       "      <td>1.8</td>\n",
       "      <td>0.0257</td>\n",
       "      <td>46587</td>\n",
       "      <td>3295651</td>\n",
       "      <td>9.28</td>\n",
       "    </tr>\n",
       "    <tr>\n",
       "      <th>26</th>\n",
       "      <td>2018-10-11</td>\n",
       "      <td>72.2</td>\n",
       "      <td>72.3</td>\n",
       "      <td>70.0</td>\n",
       "      <td>70.1</td>\n",
       "      <td>-5.2</td>\n",
       "      <td>-0.0691</td>\n",
       "      <td>97096</td>\n",
       "      <td>6862357</td>\n",
       "      <td>9.05</td>\n",
       "    </tr>\n",
       "    <tr>\n",
       "      <th>27</th>\n",
       "      <td>2018-10-09</td>\n",
       "      <td>75.7</td>\n",
       "      <td>76.0</td>\n",
       "      <td>75.3</td>\n",
       "      <td>75.3</td>\n",
       "      <td>-0.2</td>\n",
       "      <td>-0.0026</td>\n",
       "      <td>21964</td>\n",
       "      <td>1661151</td>\n",
       "      <td>9.72</td>\n",
       "    </tr>\n",
       "    <tr>\n",
       "      <th>28</th>\n",
       "      <td>2018-10-08</td>\n",
       "      <td>75.4</td>\n",
       "      <td>76.1</td>\n",
       "      <td>75.3</td>\n",
       "      <td>75.5</td>\n",
       "      <td>-0.1</td>\n",
       "      <td>-0.0013</td>\n",
       "      <td>18981</td>\n",
       "      <td>1434346</td>\n",
       "      <td>9.74</td>\n",
       "    </tr>\n",
       "    <tr>\n",
       "      <th>29</th>\n",
       "      <td>2018-10-05</td>\n",
       "      <td>76.2</td>\n",
       "      <td>76.5</td>\n",
       "      <td>75.2</td>\n",
       "      <td>75.6</td>\n",
       "      <td>-0.6</td>\n",
       "      <td>-0.0079</td>\n",
       "      <td>31642</td>\n",
       "      <td>2398053</td>\n",
       "      <td>9.75</td>\n",
       "    </tr>\n",
       "    <tr>\n",
       "      <th>...</th>\n",
       "      <td>...</td>\n",
       "      <td>...</td>\n",
       "      <td>...</td>\n",
       "      <td>...</td>\n",
       "      <td>...</td>\n",
       "      <td>...</td>\n",
       "      <td>...</td>\n",
       "      <td>...</td>\n",
       "      <td>...</td>\n",
       "      <td>...</td>\n",
       "    </tr>\n",
       "    <tr>\n",
       "      <th>1958</th>\n",
       "      <td>2010-12-07</td>\n",
       "      <td>113.0</td>\n",
       "      <td>113.5</td>\n",
       "      <td>112.5</td>\n",
       "      <td>113.5</td>\n",
       "      <td>0.5</td>\n",
       "      <td>0.0044</td>\n",
       "      <td>21124</td>\n",
       "      <td>2386140</td>\n",
       "      <td>12.94</td>\n",
       "    </tr>\n",
       "    <tr>\n",
       "      <th>1959</th>\n",
       "      <td>2010-12-06</td>\n",
       "      <td>112.5</td>\n",
       "      <td>114.0</td>\n",
       "      <td>112.0</td>\n",
       "      <td>113.0</td>\n",
       "      <td>0.5</td>\n",
       "      <td>0.0044</td>\n",
       "      <td>30978</td>\n",
       "      <td>3499546</td>\n",
       "      <td>12.88</td>\n",
       "    </tr>\n",
       "    <tr>\n",
       "      <th>1960</th>\n",
       "      <td>2010-12-03</td>\n",
       "      <td>110.5</td>\n",
       "      <td>113.0</td>\n",
       "      <td>110.0</td>\n",
       "      <td>112.5</td>\n",
       "      <td>3.5</td>\n",
       "      <td>0.0321</td>\n",
       "      <td>45208</td>\n",
       "      <td>5053381</td>\n",
       "      <td>12.83</td>\n",
       "    </tr>\n",
       "    <tr>\n",
       "      <th>1961</th>\n",
       "      <td>2010-12-02</td>\n",
       "      <td>111.0</td>\n",
       "      <td>111.5</td>\n",
       "      <td>109.0</td>\n",
       "      <td>109.0</td>\n",
       "      <td>-1.5</td>\n",
       "      <td>-0.0136</td>\n",
       "      <td>32023</td>\n",
       "      <td>3521234</td>\n",
       "      <td>12.43</td>\n",
       "    </tr>\n",
       "    <tr>\n",
       "      <th>1962</th>\n",
       "      <td>2010-12-01</td>\n",
       "      <td>109.0</td>\n",
       "      <td>110.5</td>\n",
       "      <td>109.0</td>\n",
       "      <td>110.5</td>\n",
       "      <td>2.0</td>\n",
       "      <td>0.0184</td>\n",
       "      <td>33886</td>\n",
       "      <td>3718140</td>\n",
       "      <td>12.60</td>\n",
       "    </tr>\n",
       "    <tr>\n",
       "      <th>1963</th>\n",
       "      <td>2010-11-30</td>\n",
       "      <td>110.0</td>\n",
       "      <td>111.0</td>\n",
       "      <td>108.5</td>\n",
       "      <td>108.5</td>\n",
       "      <td>-1.5</td>\n",
       "      <td>-0.0136</td>\n",
       "      <td>41335</td>\n",
       "      <td>4529412</td>\n",
       "      <td>12.37</td>\n",
       "    </tr>\n",
       "    <tr>\n",
       "      <th>1964</th>\n",
       "      <td>2010-11-29</td>\n",
       "      <td>112.0</td>\n",
       "      <td>112.5</td>\n",
       "      <td>109.5</td>\n",
       "      <td>110.0</td>\n",
       "      <td>-1.0</td>\n",
       "      <td>-0.0090</td>\n",
       "      <td>38723</td>\n",
       "      <td>4280838</td>\n",
       "      <td>12.54</td>\n",
       "    </tr>\n",
       "    <tr>\n",
       "      <th>1965</th>\n",
       "      <td>2010-11-26</td>\n",
       "      <td>112.5</td>\n",
       "      <td>112.5</td>\n",
       "      <td>111.0</td>\n",
       "      <td>111.0</td>\n",
       "      <td>-1.0</td>\n",
       "      <td>-0.0089</td>\n",
       "      <td>31493</td>\n",
       "      <td>3506729</td>\n",
       "      <td>12.66</td>\n",
       "    </tr>\n",
       "    <tr>\n",
       "      <th>1966</th>\n",
       "      <td>2010-11-25</td>\n",
       "      <td>113.5</td>\n",
       "      <td>113.5</td>\n",
       "      <td>111.5</td>\n",
       "      <td>112.0</td>\n",
       "      <td>0.0</td>\n",
       "      <td>0.0000</td>\n",
       "      <td>26368</td>\n",
       "      <td>2960577</td>\n",
       "      <td>12.77</td>\n",
       "    </tr>\n",
       "    <tr>\n",
       "      <th>1967</th>\n",
       "      <td>2010-11-24</td>\n",
       "      <td>112.5</td>\n",
       "      <td>113.0</td>\n",
       "      <td>112.0</td>\n",
       "      <td>112.0</td>\n",
       "      <td>-1.0</td>\n",
       "      <td>-0.0088</td>\n",
       "      <td>22397</td>\n",
       "      <td>2515825</td>\n",
       "      <td>12.77</td>\n",
       "    </tr>\n",
       "    <tr>\n",
       "      <th>1968</th>\n",
       "      <td>2010-11-23</td>\n",
       "      <td>115.0</td>\n",
       "      <td>115.0</td>\n",
       "      <td>113.0</td>\n",
       "      <td>113.0</td>\n",
       "      <td>-2.0</td>\n",
       "      <td>-0.0174</td>\n",
       "      <td>21842</td>\n",
       "      <td>2482775</td>\n",
       "      <td>12.88</td>\n",
       "    </tr>\n",
       "    <tr>\n",
       "      <th>1969</th>\n",
       "      <td>2010-11-22</td>\n",
       "      <td>114.5</td>\n",
       "      <td>115.5</td>\n",
       "      <td>114.5</td>\n",
       "      <td>115.0</td>\n",
       "      <td>1.0</td>\n",
       "      <td>0.0088</td>\n",
       "      <td>22550</td>\n",
       "      <td>2589161</td>\n",
       "      <td>13.11</td>\n",
       "    </tr>\n",
       "    <tr>\n",
       "      <th>1970</th>\n",
       "      <td>2010-11-19</td>\n",
       "      <td>114.5</td>\n",
       "      <td>116.0</td>\n",
       "      <td>113.5</td>\n",
       "      <td>114.0</td>\n",
       "      <td>0.5</td>\n",
       "      <td>0.0044</td>\n",
       "      <td>27972</td>\n",
       "      <td>3209227</td>\n",
       "      <td>13.00</td>\n",
       "    </tr>\n",
       "    <tr>\n",
       "      <th>1971</th>\n",
       "      <td>2010-11-18</td>\n",
       "      <td>113.0</td>\n",
       "      <td>113.5</td>\n",
       "      <td>112.0</td>\n",
       "      <td>113.5</td>\n",
       "      <td>1.0</td>\n",
       "      <td>0.0089</td>\n",
       "      <td>15247</td>\n",
       "      <td>1721814</td>\n",
       "      <td>12.94</td>\n",
       "    </tr>\n",
       "    <tr>\n",
       "      <th>1972</th>\n",
       "      <td>2010-11-17</td>\n",
       "      <td>112.0</td>\n",
       "      <td>113.0</td>\n",
       "      <td>112.0</td>\n",
       "      <td>112.5</td>\n",
       "      <td>-0.5</td>\n",
       "      <td>-0.0044</td>\n",
       "      <td>20804</td>\n",
       "      <td>2337631</td>\n",
       "      <td>12.83</td>\n",
       "    </tr>\n",
       "    <tr>\n",
       "      <th>1973</th>\n",
       "      <td>2010-11-16</td>\n",
       "      <td>111.5</td>\n",
       "      <td>113.0</td>\n",
       "      <td>111.0</td>\n",
       "      <td>113.0</td>\n",
       "      <td>1.0</td>\n",
       "      <td>0.0089</td>\n",
       "      <td>19718</td>\n",
       "      <td>2217787</td>\n",
       "      <td>12.88</td>\n",
       "    </tr>\n",
       "    <tr>\n",
       "      <th>1974</th>\n",
       "      <td>2010-11-15</td>\n",
       "      <td>113.0</td>\n",
       "      <td>113.0</td>\n",
       "      <td>111.5</td>\n",
       "      <td>112.0</td>\n",
       "      <td>-1.5</td>\n",
       "      <td>-0.0132</td>\n",
       "      <td>31116</td>\n",
       "      <td>3486979</td>\n",
       "      <td>12.77</td>\n",
       "    </tr>\n",
       "    <tr>\n",
       "      <th>1975</th>\n",
       "      <td>2010-11-12</td>\n",
       "      <td>115.0</td>\n",
       "      <td>115.5</td>\n",
       "      <td>113.0</td>\n",
       "      <td>113.5</td>\n",
       "      <td>-2.0</td>\n",
       "      <td>-0.0173</td>\n",
       "      <td>35815</td>\n",
       "      <td>4077180</td>\n",
       "      <td>12.94</td>\n",
       "    </tr>\n",
       "    <tr>\n",
       "      <th>1976</th>\n",
       "      <td>2010-11-11</td>\n",
       "      <td>116.0</td>\n",
       "      <td>116.5</td>\n",
       "      <td>115.5</td>\n",
       "      <td>115.5</td>\n",
       "      <td>-1.0</td>\n",
       "      <td>-0.0086</td>\n",
       "      <td>22839</td>\n",
       "      <td>2647896</td>\n",
       "      <td>13.17</td>\n",
       "    </tr>\n",
       "    <tr>\n",
       "      <th>1977</th>\n",
       "      <td>2010-11-10</td>\n",
       "      <td>116.0</td>\n",
       "      <td>117.0</td>\n",
       "      <td>115.5</td>\n",
       "      <td>116.5</td>\n",
       "      <td>1.5</td>\n",
       "      <td>0.0130</td>\n",
       "      <td>18114</td>\n",
       "      <td>2104582</td>\n",
       "      <td>13.28</td>\n",
       "    </tr>\n",
       "    <tr>\n",
       "      <th>1978</th>\n",
       "      <td>2010-11-09</td>\n",
       "      <td>116.0</td>\n",
       "      <td>116.5</td>\n",
       "      <td>115.0</td>\n",
       "      <td>115.0</td>\n",
       "      <td>-1.0</td>\n",
       "      <td>-0.0086</td>\n",
       "      <td>17615</td>\n",
       "      <td>2036532</td>\n",
       "      <td>13.11</td>\n",
       "    </tr>\n",
       "    <tr>\n",
       "      <th>1979</th>\n",
       "      <td>2010-11-08</td>\n",
       "      <td>117.5</td>\n",
       "      <td>117.5</td>\n",
       "      <td>115.0</td>\n",
       "      <td>116.0</td>\n",
       "      <td>-1.0</td>\n",
       "      <td>-0.0085</td>\n",
       "      <td>15112</td>\n",
       "      <td>1752412</td>\n",
       "      <td>13.23</td>\n",
       "    </tr>\n",
       "    <tr>\n",
       "      <th>1980</th>\n",
       "      <td>2010-11-05</td>\n",
       "      <td>118.5</td>\n",
       "      <td>118.5</td>\n",
       "      <td>117.0</td>\n",
       "      <td>117.0</td>\n",
       "      <td>0.0</td>\n",
       "      <td>0.0000</td>\n",
       "      <td>27679</td>\n",
       "      <td>3255232</td>\n",
       "      <td>13.34</td>\n",
       "    </tr>\n",
       "    <tr>\n",
       "      <th>1981</th>\n",
       "      <td>2010-11-04</td>\n",
       "      <td>116.0</td>\n",
       "      <td>117.0</td>\n",
       "      <td>115.0</td>\n",
       "      <td>117.0</td>\n",
       "      <td>2.0</td>\n",
       "      <td>0.0174</td>\n",
       "      <td>18447</td>\n",
       "      <td>2146757</td>\n",
       "      <td>13.34</td>\n",
       "    </tr>\n",
       "    <tr>\n",
       "      <th>1982</th>\n",
       "      <td>2010-11-03</td>\n",
       "      <td>117.0</td>\n",
       "      <td>117.5</td>\n",
       "      <td>115.0</td>\n",
       "      <td>115.0</td>\n",
       "      <td>-1.5</td>\n",
       "      <td>-0.0129</td>\n",
       "      <td>17668</td>\n",
       "      <td>2046196</td>\n",
       "      <td>13.11</td>\n",
       "    </tr>\n",
       "    <tr>\n",
       "      <th>1983</th>\n",
       "      <td>2010-11-02</td>\n",
       "      <td>116.5</td>\n",
       "      <td>117.0</td>\n",
       "      <td>116.0</td>\n",
       "      <td>116.5</td>\n",
       "      <td>-0.5</td>\n",
       "      <td>-0.0043</td>\n",
       "      <td>12004</td>\n",
       "      <td>1399068</td>\n",
       "      <td>13.28</td>\n",
       "    </tr>\n",
       "    <tr>\n",
       "      <th>1984</th>\n",
       "      <td>2010-11-01</td>\n",
       "      <td>118.0</td>\n",
       "      <td>118.0</td>\n",
       "      <td>116.5</td>\n",
       "      <td>117.0</td>\n",
       "      <td>1.0</td>\n",
       "      <td>0.0086</td>\n",
       "      <td>21948</td>\n",
       "      <td>2575235</td>\n",
       "      <td>13.78</td>\n",
       "    </tr>\n",
       "    <tr>\n",
       "      <th>1985</th>\n",
       "      <td>2010-10-29</td>\n",
       "      <td>117.5</td>\n",
       "      <td>117.5</td>\n",
       "      <td>115.5</td>\n",
       "      <td>116.0</td>\n",
       "      <td>-0.5</td>\n",
       "      <td>-0.0043</td>\n",
       "      <td>11024</td>\n",
       "      <td>1280934</td>\n",
       "      <td>13.66</td>\n",
       "    </tr>\n",
       "    <tr>\n",
       "      <th>1986</th>\n",
       "      <td>2010-10-28</td>\n",
       "      <td>116.0</td>\n",
       "      <td>118.0</td>\n",
       "      <td>115.0</td>\n",
       "      <td>116.5</td>\n",
       "      <td>0.5</td>\n",
       "      <td>0.0043</td>\n",
       "      <td>26112</td>\n",
       "      <td>3051279</td>\n",
       "      <td>13.72</td>\n",
       "    </tr>\n",
       "    <tr>\n",
       "      <th>1987</th>\n",
       "      <td>2010-10-27</td>\n",
       "      <td>118.0</td>\n",
       "      <td>119.0</td>\n",
       "      <td>116.0</td>\n",
       "      <td>116.0</td>\n",
       "      <td>-2.0</td>\n",
       "      <td>-0.0169</td>\n",
       "      <td>16083</td>\n",
       "      <td>1881558</td>\n",
       "      <td>13.66</td>\n",
       "    </tr>\n",
       "  </tbody>\n",
       "</table>\n",
       "<p>1988 rows × 10 columns</p>\n",
       "</div>"
      ],
      "text/plain": [
       "             日期     開盤     最高     最低     收盤   漲跌      漲%    成交量     成交金額  \\\n",
       "0    2018-11-26   71.3   71.5   70.6   71.0  1.0  0.0143  25630  1820700   \n",
       "1    2018-11-23   69.9   70.4   69.6   70.0  0.5  0.0072  22631  1585309   \n",
       "2    2018-11-22   70.6   71.0   69.4   69.5 -1.1 -0.0156  32826  2295823   \n",
       "3    2018-11-21   69.0   70.9   68.9   70.6 -0.4 -0.0056  43288  3021077   \n",
       "4    2018-11-20   72.0   72.7   71.0   71.0 -2.4 -0.0327  41386  2960763   \n",
       "5    2018-11-19   73.7   73.8   73.1   73.4 -0.9 -0.0121  29570  2170533   \n",
       "6    2018-11-16   74.9   75.0   73.8   74.3 -0.2 -0.0027  23953  1779188   \n",
       "7    2018-11-15   73.3   75.4   72.5   74.5  1.2  0.0164  37827  2781987   \n",
       "8    2018-11-14   74.6   74.7   73.0   73.3 -1.1 -0.0148  35175  2598273   \n",
       "9    2018-11-13   74.4   74.8   73.8   74.4 -1.8 -0.0236  30660  2280729   \n",
       "10   2018-11-12   75.9   76.9   75.8   76.2  0.1  0.0013  20747  1581933   \n",
       "11   2018-11-09   76.5   76.6   75.5   76.1 -0.5 -0.0065  29100  2211521   \n",
       "12   2018-11-08   78.2   78.4   76.6   76.6 -1.3 -0.0167  30437  2350024   \n",
       "13   2018-11-07   78.4   78.4   77.4   77.9  0.6  0.0078  23707  1846575   \n",
       "14   2018-11-06   79.5   79.6   77.1   77.3 -2.7 -0.0338  26921  2104588   \n",
       "15   2018-11-05   81.0   81.0   79.5   80.0 -1.0 -0.0123  22357  1791848   \n",
       "16   2018-11-02   79.7   81.6   78.7   81.0  1.1  0.0138  33387  2681150   \n",
       "17   2018-11-01   79.0   80.0   78.7   79.9  1.1  0.0140  27825  2210831   \n",
       "18   2018-10-31   78.1   78.8   77.7   78.8  2.4  0.0314  38572  3025384   \n",
       "19   2018-10-30   75.5   76.5   75.3   76.4  0.9  0.0119  25361  1926689   \n",
       "20   2018-10-29   78.2   78.2   75.5   75.5 -0.7 -0.0092  37754  2895354   \n",
       "21   2018-10-26   79.8   79.8   75.5   76.2  8.1  0.1189  94813  7361024   \n",
       "22   2018-10-17   70.7   71.0   68.1   68.1 -2.3 -0.0327  86222  5990424   \n",
       "23   2018-10-16   70.1   70.5   70.0   70.4 -0.1 -0.0014  55483  3891574   \n",
       "24   2018-10-15   71.2   71.2   70.2   70.5 -1.4 -0.0195  37953  2683579   \n",
       "25   2018-10-12   70.0   72.0   69.7   71.9  1.8  0.0257  46587  3295651   \n",
       "26   2018-10-11   72.2   72.3   70.0   70.1 -5.2 -0.0691  97096  6862357   \n",
       "27   2018-10-09   75.7   76.0   75.3   75.3 -0.2 -0.0026  21964  1661151   \n",
       "28   2018-10-08   75.4   76.1   75.3   75.5 -0.1 -0.0013  18981  1434346   \n",
       "29   2018-10-05   76.2   76.5   75.2   75.6 -0.6 -0.0079  31642  2398053   \n",
       "...         ...    ...    ...    ...    ...  ...     ...    ...      ...   \n",
       "1958 2010-12-07  113.0  113.5  112.5  113.5  0.5  0.0044  21124  2386140   \n",
       "1959 2010-12-06  112.5  114.0  112.0  113.0  0.5  0.0044  30978  3499546   \n",
       "1960 2010-12-03  110.5  113.0  110.0  112.5  3.5  0.0321  45208  5053381   \n",
       "1961 2010-12-02  111.0  111.5  109.0  109.0 -1.5 -0.0136  32023  3521234   \n",
       "1962 2010-12-01  109.0  110.5  109.0  110.5  2.0  0.0184  33886  3718140   \n",
       "1963 2010-11-30  110.0  111.0  108.5  108.5 -1.5 -0.0136  41335  4529412   \n",
       "1964 2010-11-29  112.0  112.5  109.5  110.0 -1.0 -0.0090  38723  4280838   \n",
       "1965 2010-11-26  112.5  112.5  111.0  111.0 -1.0 -0.0089  31493  3506729   \n",
       "1966 2010-11-25  113.5  113.5  111.5  112.0  0.0  0.0000  26368  2960577   \n",
       "1967 2010-11-24  112.5  113.0  112.0  112.0 -1.0 -0.0088  22397  2515825   \n",
       "1968 2010-11-23  115.0  115.0  113.0  113.0 -2.0 -0.0174  21842  2482775   \n",
       "1969 2010-11-22  114.5  115.5  114.5  115.0  1.0  0.0088  22550  2589161   \n",
       "1970 2010-11-19  114.5  116.0  113.5  114.0  0.5  0.0044  27972  3209227   \n",
       "1971 2010-11-18  113.0  113.5  112.0  113.5  1.0  0.0089  15247  1721814   \n",
       "1972 2010-11-17  112.0  113.0  112.0  112.5 -0.5 -0.0044  20804  2337631   \n",
       "1973 2010-11-16  111.5  113.0  111.0  113.0  1.0  0.0089  19718  2217787   \n",
       "1974 2010-11-15  113.0  113.0  111.5  112.0 -1.5 -0.0132  31116  3486979   \n",
       "1975 2010-11-12  115.0  115.5  113.0  113.5 -2.0 -0.0173  35815  4077180   \n",
       "1976 2010-11-11  116.0  116.5  115.5  115.5 -1.0 -0.0086  22839  2647896   \n",
       "1977 2010-11-10  116.0  117.0  115.5  116.5  1.5  0.0130  18114  2104582   \n",
       "1978 2010-11-09  116.0  116.5  115.0  115.0 -1.0 -0.0086  17615  2036532   \n",
       "1979 2010-11-08  117.5  117.5  115.0  116.0 -1.0 -0.0085  15112  1752412   \n",
       "1980 2010-11-05  118.5  118.5  117.0  117.0  0.0  0.0000  27679  3255232   \n",
       "1981 2010-11-04  116.0  117.0  115.0  117.0  2.0  0.0174  18447  2146757   \n",
       "1982 2010-11-03  117.0  117.5  115.0  115.0 -1.5 -0.0129  17668  2046196   \n",
       "1983 2010-11-02  116.5  117.0  116.0  116.5 -0.5 -0.0043  12004  1399068   \n",
       "1984 2010-11-01  118.0  118.0  116.5  117.0  1.0  0.0086  21948  2575235   \n",
       "1985 2010-10-29  117.5  117.5  115.5  116.0 -0.5 -0.0043  11024  1280934   \n",
       "1986 2010-10-28  116.0  118.0  115.0  116.5  0.5  0.0043  26112  3051279   \n",
       "1987 2010-10-27  118.0  119.0  116.0  116.0 -2.0 -0.0169  16083  1881558   \n",
       "\n",
       "        本益比  \n",
       "0      7.13  \n",
       "1      7.03  \n",
       "2      6.98  \n",
       "3      7.09  \n",
       "4      7.13  \n",
       "5      7.37  \n",
       "6      7.46  \n",
       "7      7.48  \n",
       "8      9.46  \n",
       "9      9.60  \n",
       "10     9.83  \n",
       "11     9.82  \n",
       "12     9.88  \n",
       "13    10.05  \n",
       "14     9.97  \n",
       "15    10.32  \n",
       "16    10.45  \n",
       "17    10.31  \n",
       "18    10.17  \n",
       "19     9.86  \n",
       "20     9.74  \n",
       "21     9.83  \n",
       "22     8.79  \n",
       "23     9.08  \n",
       "24     9.10  \n",
       "25     9.28  \n",
       "26     9.05  \n",
       "27     9.72  \n",
       "28     9.74  \n",
       "29     9.75  \n",
       "...     ...  \n",
       "1958  12.94  \n",
       "1959  12.88  \n",
       "1960  12.83  \n",
       "1961  12.43  \n",
       "1962  12.60  \n",
       "1963  12.37  \n",
       "1964  12.54  \n",
       "1965  12.66  \n",
       "1966  12.77  \n",
       "1967  12.77  \n",
       "1968  12.88  \n",
       "1969  13.11  \n",
       "1970  13.00  \n",
       "1971  12.94  \n",
       "1972  12.83  \n",
       "1973  12.88  \n",
       "1974  12.77  \n",
       "1975  12.94  \n",
       "1976  13.17  \n",
       "1977  13.28  \n",
       "1978  13.11  \n",
       "1979  13.23  \n",
       "1980  13.34  \n",
       "1981  13.34  \n",
       "1982  13.11  \n",
       "1983  13.28  \n",
       "1984  13.78  \n",
       "1985  13.66  \n",
       "1986  13.72  \n",
       "1987  13.66  \n",
       "\n",
       "[1988 rows x 10 columns]"
      ]
     },
     "execution_count": 27,
     "metadata": {},
     "output_type": "execute_result"
    }
   ],
   "source": [
    "df"
   ]
  },
  {
   "cell_type": "code",
   "execution_count": 28,
   "metadata": {},
   "outputs": [
    {
     "data": {
      "text/plain": [
       "日期      1988\n",
       "開盤      1988\n",
       "最高      1988\n",
       "最低      1988\n",
       "收盤      1988\n",
       "漲跌      1988\n",
       "漲%      1988\n",
       "成交量     1988\n",
       "成交金額    1988\n",
       "本益比     1988\n",
       "dtype: int64"
      ]
     },
     "execution_count": 28,
     "metadata": {},
     "output_type": "execute_result"
    }
   ],
   "source": [
    "df.count()"
   ]
  },
  {
   "cell_type": "code",
   "execution_count": 29,
   "metadata": {},
   "outputs": [
    {
     "data": {
      "text/plain": [
       "1391.6"
      ]
     },
     "execution_count": 29,
     "metadata": {},
     "output_type": "execute_result"
    }
   ],
   "source": [
    "1988*0.7"
   ]
  },
  {
   "cell_type": "code",
   "execution_count": 30,
   "metadata": {
    "collapsed": true
   },
   "outputs": [],
   "source": [
    "trainset = df.iloc[0:1391,:]\n",
    "testset  = df.iloc[1391: ,:]"
   ]
  },
  {
   "cell_type": "code",
   "execution_count": 31,
   "metadata": {
    "collapsed": true
   },
   "outputs": [],
   "source": [
    "training_set = trainset.iloc[:,4:5].values"
   ]
  },
  {
   "cell_type": "code",
   "execution_count": 32,
   "metadata": {
    "collapsed": true
   },
   "outputs": [],
   "source": [
    "test_set = testset.iloc[:,4:5].values"
   ]
  },
  {
   "cell_type": "markdown",
   "metadata": {},
   "source": [
    "# 資料標準化"
   ]
  },
  {
   "cell_type": "code",
   "execution_count": 33,
   "metadata": {
    "collapsed": true
   },
   "outputs": [],
   "source": [
    "from sklearn.preprocessing import MinMaxScaler\n",
    "sc = MinMaxScaler(feature_range = (0, 1))\n",
    "training_set_scaled = sc.fit_transform(training_set)"
   ]
  },
  {
   "cell_type": "code",
   "execution_count": 34,
   "metadata": {},
   "outputs": [
    {
     "data": {
      "text/plain": [
       "array([[ 71. ],\n",
       "       [ 70. ],\n",
       "       [ 69.5],\n",
       "       ..., \n",
       "       [ 82.7],\n",
       "       [ 83.5],\n",
       "       [ 83.5]])"
      ]
     },
     "execution_count": 34,
     "metadata": {},
     "output_type": "execute_result"
    }
   ],
   "source": [
    "training_set"
   ]
  },
  {
   "cell_type": "code",
   "execution_count": 35,
   "metadata": {},
   "outputs": [
    {
     "data": {
      "text/plain": [
       "array([[ 0.05430712],\n",
       "       [ 0.03558052],\n",
       "       [ 0.02621723],\n",
       "       ..., \n",
       "       [ 0.27340824],\n",
       "       [ 0.28838951],\n",
       "       [ 0.28838951]])"
      ]
     },
     "execution_count": 35,
     "metadata": {},
     "output_type": "execute_result"
    }
   ],
   "source": [
    "training_set_scaled"
   ]
  },
  {
   "cell_type": "code",
   "execution_count": 36,
   "metadata": {},
   "outputs": [
    {
     "data": {
      "text/plain": [
       "1391"
      ]
     },
     "execution_count": 36,
     "metadata": {},
     "output_type": "execute_result"
    }
   ],
   "source": [
    "len(training_set_scaled)"
   ]
  },
  {
   "cell_type": "markdown",
   "metadata": {},
   "source": [
    "# 建立特徵X與目標y"
   ]
  },
  {
   "cell_type": "code",
   "execution_count": 38,
   "metadata": {
    "collapsed": true
   },
   "outputs": [],
   "source": [
    "import numpy as np\n",
    "\n",
    "X_train = []\n",
    "y_train = []\n",
    "\n",
    "for i in range(60, 1391):\n",
    "    X_train.append(training_set_scaled[i-60:i, 0])\n",
    "    y_train.append(training_set_scaled[i,0])"
   ]
  },
  {
   "cell_type": "code",
   "execution_count": 39,
   "metadata": {},
   "outputs": [
    {
     "data": {
      "text/plain": [
       "array([ 0.05430712,  0.03558052,  0.02621723,  0.04681648,  0.05430712,\n",
       "        0.09925094,  0.11610487,  0.11985019,  0.09737828,  0.11797753,\n",
       "        0.15168539,  0.14981273,  0.15917603,  0.1835206 ,  0.17228464,\n",
       "        0.22284644,  0.24157303,  0.22097378,  0.20037453,  0.15543071,\n",
       "        0.13857678,  0.15168539,  0.        ,  0.04307116,  0.04494382,\n",
       "        0.07116105,  0.03745318,  0.13483146,  0.13857678,  0.14044944,\n",
       "        0.15168539,  0.18164794,  0.18726592,  0.22097378,  0.20786517,\n",
       "        0.19850187,  0.17228464,  0.14981273,  0.14419476,  0.14044944,\n",
       "        0.15543071,  0.14419476,  0.18164794,  0.1835206 ,  0.14794007,\n",
       "        0.16666667,  0.17977528,  0.13108614,  0.17977528,  0.20973783,\n",
       "        0.2247191 ,  0.2247191 ,  0.2247191 ,  0.23220974,  0.23970037,\n",
       "        0.24906367,  0.24531835,  0.24157303,  0.24344569,  0.25655431])"
      ]
     },
     "execution_count": 39,
     "metadata": {},
     "output_type": "execute_result"
    }
   ],
   "source": [
    "X_train[0]"
   ]
  },
  {
   "cell_type": "code",
   "execution_count": 40,
   "metadata": {},
   "outputs": [
    {
     "data": {
      "text/plain": [
       "0.25468164794007508"
      ]
     },
     "execution_count": 40,
     "metadata": {},
     "output_type": "execute_result"
    }
   ],
   "source": [
    "y_train[0]"
   ]
  },
  {
   "cell_type": "code",
   "execution_count": 41,
   "metadata": {
    "collapsed": true
   },
   "outputs": [],
   "source": [
    "X_train, y_train = np.array(X_train), np.array(y_train)"
   ]
  },
  {
   "cell_type": "code",
   "execution_count": 42,
   "metadata": {},
   "outputs": [
    {
     "data": {
      "text/plain": [
       "(1331, 60)"
      ]
     },
     "execution_count": 42,
     "metadata": {},
     "output_type": "execute_result"
    }
   ],
   "source": [
    "X_train.shape"
   ]
  },
  {
   "cell_type": "code",
   "execution_count": 43,
   "metadata": {},
   "outputs": [
    {
     "data": {
      "text/plain": [
       "(1331,)"
      ]
     },
     "execution_count": 43,
     "metadata": {},
     "output_type": "execute_result"
    }
   ],
   "source": [
    "y_train.shape"
   ]
  },
  {
   "cell_type": "code",
   "execution_count": 44,
   "metadata": {
    "collapsed": true
   },
   "outputs": [],
   "source": [
    "X_train = np.reshape(X_train, (X_train.shape[0], X_train.shape[1], 1))"
   ]
  },
  {
   "cell_type": "code",
   "execution_count": 45,
   "metadata": {},
   "outputs": [
    {
     "data": {
      "text/plain": [
       "(1331, 60, 1)"
      ]
     },
     "execution_count": 45,
     "metadata": {},
     "output_type": "execute_result"
    }
   ],
   "source": [
    "X_train.shape"
   ]
  },
  {
   "cell_type": "code",
   "execution_count": 46,
   "metadata": {},
   "outputs": [
    {
     "data": {
      "text/plain": [
       "(60, 1)"
      ]
     },
     "execution_count": 46,
     "metadata": {},
     "output_type": "execute_result"
    }
   ],
   "source": [
    "X_train.shape[1], 1"
   ]
  },
  {
   "cell_type": "markdown",
   "metadata": {},
   "source": [
    "# 建構LSTM模型"
   ]
  },
  {
   "cell_type": "code",
   "execution_count": 47,
   "metadata": {},
   "outputs": [
    {
     "name": "stderr",
     "output_type": "stream",
     "text": [
      "Using TensorFlow backend.\n"
     ]
    }
   ],
   "source": [
    "from keras.models import Sequential \n",
    "from keras.layers import Dense\n",
    "from keras.layers import LSTM\n",
    "from keras.layers import Dropout\n",
    "\n",
    "\n",
    "regressor = Sequential()\n",
    "regressor.add(LSTM(units = 50, return_sequences = True, input_shape = (X_train.shape[1], 1)))\n",
    "regressor.add(Dropout(0.2))\n",
    "\n",
    "regressor.add(LSTM(units = 50, return_sequences = True)) \n",
    "regressor.add(Dropout(0.2))\n",
    "\n",
    "regressor.add(LSTM(units = 50, return_sequences = True)) \n",
    "regressor.add(Dropout(0.2))\n",
    "\n",
    "regressor.add(LSTM(units = 50))\n",
    "regressor.add(Dropout(0.2))\n",
    "\n",
    "regressor.add(Dense(units = 1))"
   ]
  },
  {
   "cell_type": "markdown",
   "metadata": {},
   "source": [
    "# 訓練模型"
   ]
  },
  {
   "cell_type": "code",
   "execution_count": 48,
   "metadata": {},
   "outputs": [
    {
     "name": "stdout",
     "output_type": "stream",
     "text": [
      "Epoch 1/100\n",
      "1331/1331 [==============================] - 7s 5ms/step - loss: 0.0313\n",
      "Epoch 2/100\n",
      "1331/1331 [==============================] - 4s 3ms/step - loss: 0.0082\n",
      "Epoch 3/100\n",
      "1331/1331 [==============================] - 4s 3ms/step - loss: 0.0069\n",
      "Epoch 4/100\n",
      "1331/1331 [==============================] - 4s 3ms/step - loss: 0.0076\n",
      "Epoch 5/100\n",
      "1331/1331 [==============================] - 4s 3ms/step - loss: 0.0056\n",
      "Epoch 6/100\n",
      "1331/1331 [==============================] - 4s 3ms/step - loss: 0.0056\n",
      "Epoch 7/100\n",
      "1331/1331 [==============================] - 4s 3ms/step - loss: 0.0061\n",
      "Epoch 8/100\n",
      "1331/1331 [==============================] - 4s 3ms/step - loss: 0.0050\n",
      "Epoch 9/100\n",
      "1331/1331 [==============================] - 4s 3ms/step - loss: 0.0051\n",
      "Epoch 10/100\n",
      "1331/1331 [==============================] - 4s 3ms/step - loss: 0.0046\n",
      "Epoch 11/100\n",
      "1331/1331 [==============================] - 4s 3ms/step - loss: 0.0045\n",
      "Epoch 12/100\n",
      "1331/1331 [==============================] - 4s 3ms/step - loss: 0.0039\n",
      "Epoch 13/100\n",
      "1331/1331 [==============================] - 4s 3ms/step - loss: 0.0040\n",
      "Epoch 14/100\n",
      "1331/1331 [==============================] - 4s 3ms/step - loss: 0.0041\n",
      "Epoch 15/100\n",
      "1331/1331 [==============================] - 4s 3ms/step - loss: 0.0044\n",
      "Epoch 16/100\n",
      "1331/1331 [==============================] - 4s 3ms/step - loss: 0.0037\n",
      "Epoch 17/100\n",
      "1331/1331 [==============================] - 4s 3ms/step - loss: 0.0035\n",
      "Epoch 18/100\n",
      "1331/1331 [==============================] - 4s 3ms/step - loss: 0.0035\n",
      "Epoch 19/100\n",
      "1331/1331 [==============================] - 4s 3ms/step - loss: 0.0031\n",
      "Epoch 20/100\n",
      "1331/1331 [==============================] - 4s 3ms/step - loss: 0.0033\n",
      "Epoch 21/100\n",
      "1331/1331 [==============================] - 4s 3ms/step - loss: 0.0028\n",
      "Epoch 22/100\n",
      "1331/1331 [==============================] - 4s 3ms/step - loss: 0.0030\n",
      "Epoch 23/100\n",
      "1331/1331 [==============================] - 4s 3ms/step - loss: 0.0030\n",
      "Epoch 24/100\n",
      "1331/1331 [==============================] - 4s 3ms/step - loss: 0.0029\n",
      "Epoch 25/100\n",
      "1331/1331 [==============================] - 4s 3ms/step - loss: 0.0030\n",
      "Epoch 26/100\n",
      "1331/1331 [==============================] - 4s 3ms/step - loss: 0.0028\n",
      "Epoch 27/100\n",
      "1331/1331 [==============================] - 4s 3ms/step - loss: 0.0026\n",
      "Epoch 28/100\n",
      "1331/1331 [==============================] - 4s 3ms/step - loss: 0.0027\n",
      "Epoch 29/100\n",
      "1331/1331 [==============================] - 4s 3ms/step - loss: 0.0028\n",
      "Epoch 30/100\n",
      "1331/1331 [==============================] - 4s 3ms/step - loss: 0.0028\n",
      "Epoch 31/100\n",
      "1331/1331 [==============================] - 4s 3ms/step - loss: 0.0025\n",
      "Epoch 32/100\n",
      "1331/1331 [==============================] - 4s 3ms/step - loss: 0.0027\n",
      "Epoch 33/100\n",
      "1331/1331 [==============================] - 4s 3ms/step - loss: 0.0025\n",
      "Epoch 34/100\n",
      "1331/1331 [==============================] - 4s 3ms/step - loss: 0.0024\n",
      "Epoch 35/100\n",
      "1331/1331 [==============================] - 4s 3ms/step - loss: 0.0023\n",
      "Epoch 36/100\n",
      "1331/1331 [==============================] - 4s 3ms/step - loss: 0.0023\n",
      "Epoch 37/100\n",
      "1331/1331 [==============================] - 4s 3ms/step - loss: 0.0022\n",
      "Epoch 38/100\n",
      "1331/1331 [==============================] - 4s 3ms/step - loss: 0.0024\n",
      "Epoch 39/100\n",
      "1331/1331 [==============================] - 4s 3ms/step - loss: 0.0023\n",
      "Epoch 40/100\n",
      "1331/1331 [==============================] - 4s 3ms/step - loss: 0.0022\n",
      "Epoch 41/100\n",
      "1331/1331 [==============================] - 4s 3ms/step - loss: 0.0020\n",
      "Epoch 42/100\n",
      "1331/1331 [==============================] - 4s 3ms/step - loss: 0.0022\n",
      "Epoch 43/100\n",
      "1331/1331 [==============================] - 4s 3ms/step - loss: 0.0021\n",
      "Epoch 44/100\n",
      "1331/1331 [==============================] - 4s 3ms/step - loss: 0.0021\n",
      "Epoch 45/100\n",
      "1331/1331 [==============================] - 4s 3ms/step - loss: 0.0023\n",
      "Epoch 46/100\n",
      "1331/1331 [==============================] - 4s 3ms/step - loss: 0.0021\n",
      "Epoch 47/100\n",
      "1331/1331 [==============================] - 4s 3ms/step - loss: 0.0020\n",
      "Epoch 48/100\n",
      "1331/1331 [==============================] - 4s 3ms/step - loss: 0.0017\n",
      "Epoch 49/100\n",
      "1331/1331 [==============================] - 4s 3ms/step - loss: 0.0019\n",
      "Epoch 50/100\n",
      "1331/1331 [==============================] - 4s 3ms/step - loss: 0.0019\n",
      "Epoch 51/100\n",
      "1331/1331 [==============================] - 4s 3ms/step - loss: 0.0018\n",
      "Epoch 52/100\n",
      "1331/1331 [==============================] - 4s 3ms/step - loss: 0.0018A: 0s - loss: 0.001\n",
      "Epoch 53/100\n",
      "1331/1331 [==============================] - 4s 3ms/step - loss: 0.0018\n",
      "Epoch 54/100\n",
      "1331/1331 [==============================] - 4s 3ms/step - loss: 0.0018\n",
      "Epoch 55/100\n",
      "1331/1331 [==============================] - 4s 3ms/step - loss: 0.0017\n",
      "Epoch 56/100\n",
      "1331/1331 [==============================] - 4s 3ms/step - loss: 0.0016\n",
      "Epoch 57/100\n",
      "1331/1331 [==============================] - 4s 3ms/step - loss: 0.0017\n",
      "Epoch 58/100\n",
      "1331/1331 [==============================] - 4s 3ms/step - loss: 0.0015\n",
      "Epoch 59/100\n",
      "1331/1331 [==============================] - 4s 3ms/step - loss: 0.0020\n",
      "Epoch 60/100\n",
      "1331/1331 [==============================] - 4s 3ms/step - loss: 0.0016\n",
      "Epoch 61/100\n",
      "1331/1331 [==============================] - 4s 3ms/step - loss: 0.0017\n",
      "Epoch 62/100\n",
      "1331/1331 [==============================] - 4s 3ms/step - loss: 0.0015\n",
      "Epoch 63/100\n",
      "1331/1331 [==============================] - 4s 3ms/step - loss: 0.0016\n",
      "Epoch 64/100\n",
      "1331/1331 [==============================] - 4s 3ms/step - loss: 0.0017\n",
      "Epoch 65/100\n",
      "1331/1331 [==============================] - 4s 3ms/step - loss: 0.0016\n",
      "Epoch 66/100\n",
      "1331/1331 [==============================] - 4s 3ms/step - loss: 0.0016\n",
      "Epoch 67/100\n",
      "1331/1331 [==============================] - 4s 3ms/step - loss: 0.0017\n",
      "Epoch 68/100\n",
      "1331/1331 [==============================] - 4s 3ms/step - loss: 0.0016\n",
      "Epoch 69/100\n",
      "1331/1331 [==============================] - 4s 3ms/step - loss: 0.0014\n",
      "Epoch 70/100\n",
      "1331/1331 [==============================] - 4s 3ms/step - loss: 0.0014\n",
      "Epoch 71/100\n",
      "1331/1331 [==============================] - 4s 3ms/step - loss: 0.0018\n",
      "Epoch 72/100\n",
      "1331/1331 [==============================] - 4s 3ms/step - loss: 0.0016\n",
      "Epoch 73/100\n",
      "1331/1331 [==============================] - 4s 3ms/step - loss: 0.0014\n",
      "Epoch 74/100\n",
      "1331/1331 [==============================] - 4s 3ms/step - loss: 0.0015\n",
      "Epoch 75/100\n",
      "1331/1331 [==============================] - 4s 3ms/step - loss: 0.0016\n",
      "Epoch 76/100\n",
      "1331/1331 [==============================] - 4s 3ms/step - loss: 0.0012A: 1\n",
      "Epoch 77/100\n",
      "1331/1331 [==============================] - 4s 3ms/step - loss: 0.0014\n",
      "Epoch 78/100\n",
      "1331/1331 [==============================] - 4s 3ms/step - loss: 0.0013\n",
      "Epoch 79/100\n",
      "1331/1331 [==============================] - 4s 3ms/step - loss: 0.0014\n",
      "Epoch 80/100\n",
      "1331/1331 [==============================] - 4s 3ms/step - loss: 0.0013\n",
      "Epoch 81/100\n",
      "1331/1331 [==============================] - 4s 3ms/step - loss: 0.0013\n",
      "Epoch 82/100\n",
      "1331/1331 [==============================] - 4s 3ms/step - loss: 0.0014\n",
      "Epoch 83/100\n",
      "1331/1331 [==============================] - 4s 3ms/step - loss: 0.0014\n",
      "Epoch 84/100\n",
      "1331/1331 [==============================] - 4s 3ms/step - loss: 0.0015\n",
      "Epoch 85/100\n",
      "1331/1331 [==============================] - 4s 3ms/step - loss: 0.0014\n",
      "Epoch 86/100\n",
      "1331/1331 [==============================] - 4s 3ms/step - loss: 0.0013\n",
      "Epoch 87/100\n",
      "1331/1331 [==============================] - 4s 3ms/step - loss: 0.0012\n",
      "Epoch 88/100\n",
      "1331/1331 [==============================] - 4s 3ms/step - loss: 0.0014\n",
      "Epoch 89/100\n",
      "1331/1331 [==============================] - 4s 3ms/step - loss: 0.0013\n",
      "Epoch 90/100\n",
      "1331/1331 [==============================] - 5s 3ms/step - loss: 0.0013\n",
      "Epoch 91/100\n",
      "1331/1331 [==============================] - 4s 3ms/step - loss: 0.0014\n",
      "Epoch 92/100\n",
      "1331/1331 [==============================] - 4s 3ms/step - loss: 0.0013\n",
      "Epoch 93/100\n",
      "1331/1331 [==============================] - 4s 3ms/step - loss: 0.0012\n",
      "Epoch 94/100\n",
      "1331/1331 [==============================] - 4s 3ms/step - loss: 0.0013\n",
      "Epoch 95/100\n",
      "1331/1331 [==============================] - 4s 3ms/step - loss: 0.0011\n",
      "Epoch 96/100\n",
      "1331/1331 [==============================] - 4s 3ms/step - loss: 0.0014\n",
      "Epoch 97/100\n",
      "1331/1331 [==============================] - 4s 3ms/step - loss: 0.0013\n",
      "Epoch 98/100\n",
      "1331/1331 [==============================] - 4s 3ms/step - loss: 0.0012\n",
      "Epoch 99/100\n",
      "1331/1331 [==============================] - 4s 3ms/step - loss: 0.0014\n",
      "Epoch 100/100\n",
      "1331/1331 [==============================] - 4s 3ms/step - loss: 0.0013\n"
     ]
    },
    {
     "data": {
      "text/plain": [
       "<keras.callbacks.History at 0x217b28dc898>"
      ]
     },
     "execution_count": 48,
     "metadata": {},
     "output_type": "execute_result"
    }
   ],
   "source": [
    "regressor.compile(optimizer = 'adam', loss = 'mean_squared_error')\n",
    "\n",
    "regressor.fit(X_train, y_train, epochs = 100, batch_size = 32)"
   ]
  },
  {
   "cell_type": "code",
   "execution_count": 49,
   "metadata": {
    "collapsed": true
   },
   "outputs": [],
   "source": [
    "#X_train"
   ]
  },
  {
   "cell_type": "code",
   "execution_count": 50,
   "metadata": {
    "collapsed": true
   },
   "outputs": [],
   "source": [
    "predicted = regressor.predict(X_train)"
   ]
  },
  {
   "cell_type": "code",
   "execution_count": 51,
   "metadata": {},
   "outputs": [
    {
     "data": {
      "text/plain": [
       "array([[ 0.24609144],\n",
       "       [ 0.24908522],\n",
       "       [ 0.24060309],\n",
       "       ..., \n",
       "       [ 0.27584431],\n",
       "       [ 0.27023828],\n",
       "       [ 0.2780211 ]], dtype=float32)"
      ]
     },
     "execution_count": 51,
     "metadata": {},
     "output_type": "execute_result"
    }
   ],
   "source": [
    "predicted"
   ]
  },
  {
   "cell_type": "markdown",
   "metadata": {},
   "source": [
    "# 反標準化預測結果"
   ]
  },
  {
   "cell_type": "code",
   "execution_count": 52,
   "metadata": {
    "collapsed": true
   },
   "outputs": [],
   "source": [
    "predicted_stock_price = sc.inverse_transform(predicted)"
   ]
  },
  {
   "cell_type": "code",
   "execution_count": 53,
   "metadata": {},
   "outputs": [
    {
     "data": {
      "text/plain": [
       "((1391, 1), (1331, 1))"
      ]
     },
     "execution_count": 53,
     "metadata": {},
     "output_type": "execute_result"
    }
   ],
   "source": [
    "training_set.shape, predicted_stock_price.shape"
   ]
  },
  {
   "cell_type": "code",
   "execution_count": 54,
   "metadata": {},
   "outputs": [
    {
     "data": {
      "text/plain": [
       "(1331, 1)"
      ]
     },
     "execution_count": 54,
     "metadata": {},
     "output_type": "execute_result"
    }
   ],
   "source": [
    "training_set[60:].shape"
   ]
  },
  {
   "cell_type": "markdown",
   "metadata": {},
   "source": [
    "# 對照預測結果與實際結果"
   ]
  },
  {
   "cell_type": "code",
   "execution_count": 55,
   "metadata": {},
   "outputs": [
    {
     "data": {
      "image/png": "[encoded data removed]",
      "text/plain": [
       "<Figure size 432x288 with 1 Axes>"
      ]
     },
     "metadata": {},
     "output_type": "display_data"
    }
   ],
   "source": [
    "import matplotlib.pyplot as plt\n",
    "plt.plot(training_set[60:], color = 'red', label = 'Real Google Stock Price')\n",
    "plt.plot(predicted_stock_price, color = 'blue', label = 'Predicted Google Stock Price')\n",
    "plt.title('Google Stock Price Prediction')\n",
    "plt.xlabel('Time')\n",
    "plt.ylabel('Google Stock Price')\n",
    "plt.legend()\n",
    "plt.show()"
   ]
  },
  {
   "cell_type": "code",
   "execution_count": 56,
   "metadata": {},
   "outputs": [
    {
     "data": {
      "text/plain": [
       "(array([ 81.7]), array([ 81.2412796], dtype=float32))"
      ]
     },
     "execution_count": 56,
     "metadata": {},
     "output_type": "execute_result"
    }
   ],
   "source": [
    "training_set[60:][0],predicted_stock_price[0]"
   ]
  },
  {
   "cell_type": "code",
   "execution_count": 57,
   "metadata": {
    "collapsed": true
   },
   "outputs": [],
   "source": [
    "real_data      = training_set[60:].flatten()\n",
    "predicted_data = predicted_stock_price.flatten()"
   ]
  },
  {
   "cell_type": "code",
   "execution_count": 58,
   "metadata": {},
   "outputs": [
    {
     "data": {
      "text/plain": [
       "0.010579381649199381"
      ]
     },
     "execution_count": 58,
     "metadata": {},
     "output_type": "execute_result"
    }
   ],
   "source": [
    "import numpy as np\n",
    "(np.abs((real_data - predicted_data) / predicted_data)).mean()"
   ]
  },
  {
   "cell_type": "markdown",
   "metadata": {},
   "source": [
    "# 評估測試資料集"
   ]
  },
  {
   "cell_type": "code",
   "execution_count": 59,
   "metadata": {},
   "outputs": [
    {
     "data": {
      "text/plain": [
       "(597, 1)"
      ]
     },
     "execution_count": 59,
     "metadata": {},
     "output_type": "execute_result"
    }
   ],
   "source": [
    "test_set.shape"
   ]
  },
  {
   "cell_type": "code",
   "execution_count": 60,
   "metadata": {
    "collapsed": true
   },
   "outputs": [],
   "source": [
    "inputs = sc.transform(test_set)"
   ]
  },
  {
   "cell_type": "code",
   "execution_count": 61,
   "metadata": {},
   "outputs": [
    {
     "data": {
      "text/plain": [
       "597"
      ]
     },
     "execution_count": 61,
     "metadata": {},
     "output_type": "execute_result"
    }
   ],
   "source": [
    "len(inputs)"
   ]
  },
  {
   "cell_type": "code",
   "execution_count": 63,
   "metadata": {
    "collapsed": true
   },
   "outputs": [],
   "source": [
    "X_test = []\n",
    "for i in range(60, 597):\n",
    "    X_test.append(inputs[i-60:i, 0])"
   ]
  },
  {
   "cell_type": "code",
   "execution_count": 64,
   "metadata": {},
   "outputs": [
    {
     "data": {
      "text/plain": [
       "(537, 60)"
      ]
     },
     "execution_count": 64,
     "metadata": {},
     "output_type": "execute_result"
    }
   ],
   "source": [
    "X_test = np.array(X_test)\n",
    "X_test.shape"
   ]
  },
  {
   "cell_type": "code",
   "execution_count": 65,
   "metadata": {},
   "outputs": [
    {
     "data": {
      "text/plain": [
       "(537, 60, 1)"
      ]
     },
     "execution_count": 65,
     "metadata": {},
     "output_type": "execute_result"
    }
   ],
   "source": [
    "X_test = np.reshape(X_test, (X_test.shape[0], X_test.shape[1], 1))\n",
    "X_test.shape"
   ]
  },
  {
   "cell_type": "code",
   "execution_count": 66,
   "metadata": {
    "collapsed": true
   },
   "outputs": [],
   "source": [
    "test_predicted = regressor.predict(X_test)"
   ]
  },
  {
   "cell_type": "code",
   "execution_count": 67,
   "metadata": {
    "collapsed": true
   },
   "outputs": [],
   "source": [
    "test_predicted_stock_price = sc.inverse_transform(test_predicted)"
   ]
  },
  {
   "cell_type": "code",
   "execution_count": 68,
   "metadata": {
    "collapsed": true
   },
   "outputs": [],
   "source": [
    "#test_predicted_stock_price"
   ]
  },
  {
   "cell_type": "code",
   "execution_count": 79,
   "metadata": {},
   "outputs": [
    {
     "data": {
      "image/png": "[encoded data removed]",
      "text/plain": [
       "<Figure size 720x360 with 1 Axes>"
      ]
     },
     "metadata": {},
     "output_type": "display_data"
    }
   ],
   "source": [
    "import matplotlib.pyplot as plt\n",
    "plt.figure(figsize=[10,5])\n",
    "plt.plot(test_set[60:], color = 'red', label = 'Real 2317 Stock Price')\n",
    "plt.plot(test_predicted_stock_price, color = 'blue', label = 'Predicted 2317 Stock Price')\n",
    "plt.title('2317 Stock Price Prediction')\n",
    "plt.xlabel('Time')\n",
    "plt.ylabel('2317 Stock Price')\n",
    "plt.legend()\n",
    "plt.show()"
   ]
  },
  {
   "cell_type": "code",
   "execution_count": null,
   "metadata": {
    "collapsed": true
   },
   "outputs": [],
   "source": []
  }
 ],
 "metadata": {
  "kernelspec": {
   "display_name": "Python 3",
   "language": "python",
   "name": "python3"
  },
  "language_info": {
   "codemirror_mode": {
    "name": "ipython",
    "version": 3
   },
   "file_extension": ".py",
   "mimetype": "text/x-python",
   "name": "python",
   "nbconvert_exporter": "python",
   "pygments_lexer": "ipython3",
   "version": "3.6.3"
  }
 },
 "nbformat": 4,
 "nbformat_minor": 2
}
