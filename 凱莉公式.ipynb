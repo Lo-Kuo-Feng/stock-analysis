{
 "cells": [
  {
   "cell_type": "markdown",
   "metadata": {},
   "source": [
    "[凱利公式是啥？按這個炒股能成巴菲特？如何分配手裏的錢進行最優投資，李永樂老師告訴你](https://www.youtube.com/watch?v=v2JGTi5lhY4)"
   ]
  },
  {
   "cell_type": "code",
   "execution_count": 1,
   "metadata": {
    "scrolled": true
   },
   "outputs": [
    {
     "name": "stdout",
     "output_type": "stream",
     "text": [
      "0.125\n"
     ]
    }
   ],
   "source": [
    "b = (0.3-0.06)/(0.05+0.06)  # 賠率（不含本金）\n",
    "p = 0.4                     # 獲勝率\n",
    "q = 1 - p                   # 落敗率\n",
    "f = (p*(b+1)-1) / b         # 現有資金應進行下次投注的比例\n",
    "print(f)"
   ]
  },
  {
   "cell_type": "markdown",
   "metadata": {},
   "source": [
    "### 模擬凱莉公式"
   ]
  },
  {
   "cell_type": "code",
   "execution_count": 2,
   "metadata": {},
   "outputs": [
    {
     "name": "stdout",
     "output_type": "stream",
     "text": [
      "0 0 -558.5\n",
      "1 1 2382.9999999999995\n",
      "2 1 5324.499999999999\n",
      "3 1 8265.999999999998\n",
      "4 0 7707.499999999998\n",
      "5 1 10648.999999999998\n",
      "6 0 10090.499999999998\n",
      "7 0 9531.999999999998\n",
      "8 0 8973.499999999998\n",
      "9 1 11914.999999999998\n",
      "10 0 11356.499999999998\n",
      "11 1 14297.999999999998\n"
     ]
    }
   ],
   "source": [
    "import random\n",
    "\n",
    "take_profit  = 0.3\n",
    "stop_loss_point = 0.05\n",
    "fee_ratio = 0.001425\n",
    "tax_ratio = 0.003\n",
    "fee_ratio_discount =0.6\n",
    "stock_price = 10\n",
    "\n",
    "earn = 0\n",
    "seq = [1, 1, 1, 1, 0, 0, 0, 0, 0, 0]\n",
    "random.choices(seq, k=1)\n",
    "for i, j in enumerate(range(12)):\n",
    "    r = random.choices(seq, k=1)[0]\n",
    "    if r:\n",
    "        earn += stock_price * 1000 * (-fee_ratio*2-tax_ratio+take_profit)\n",
    "    else:\n",
    "        earn += stock_price * 1000 * (-fee_ratio*2-tax_ratio-stop_loss_point)\n",
    "    print(i, r, earn)"
   ]
  },
  {
   "cell_type": "code",
   "execution_count": null,
   "metadata": {
    "collapsed": true
   },
   "outputs": [],
   "source": []
  }
 ],
 "metadata": {
  "kernelspec": {
   "display_name": "Python 3",
   "language": "python",
   "name": "python3"
  },
  "language_info": {
   "codemirror_mode": {
    "name": "ipython",
    "version": 3
   },
   "file_extension": ".py",
   "mimetype": "text/x-python",
   "name": "python",
   "nbconvert_exporter": "python",
   "pygments_lexer": "ipython3",
   "version": "3.6.3"
  }
 },
 "nbformat": 4,
 "nbformat_minor": 2
}
