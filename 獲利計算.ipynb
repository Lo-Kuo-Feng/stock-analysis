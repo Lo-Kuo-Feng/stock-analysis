{
 "cells": [
  {
   "cell_type": "code",
   "execution_count": 1,
   "metadata": {},
   "outputs": [],
   "source": [
    "def profit(stock_price:\"股價\" = 100, \n",
    "           buy_amount:\"股票張數\" = 1, \n",
    "           fee_ratio:\"手續費\" = 0.001425, \n",
    "           tax_ratio:\"稅率\" = 0.003, \n",
    "           fee_ratio_discount:\"手續費折數\" =0.6, \n",
    "           ups_and_downs:\"股價漲跌\" = 0.5): \n",
    "    \n",
    "    print(\"%-22s\"%(\"original stock price\"),\":\", stock_price)\n",
    "    stock_value = stock_price * buy_amount * 1000\n",
    "    print(\"%-22s\"%(\"original stock value\"),\":\", stock_value)\n",
    "    account1 = stock_value + stock_value * fee_ratio * fee_ratio_discount\n",
    "    securities_firm_profit = stock_value * fee_ratio * fee_ratio_discount\n",
    "    total_tax_fee = stock_value * fee_ratio * fee_ratio_discount\n",
    "    print(\"%-22s\"%(\"fee ratio\"),\":\", stock_value * fee_ratio * fee_ratio_discount)\n",
    "    print()\n",
    "    print(\"%-22s\"%(\"cost\"),\":\", account1)\n",
    "\n",
    "    print(\"==========================================\")\n",
    "    stock_price = stock_price + ups_and_downs\n",
    "    print(\"%-22s\"%(\"stock price\"),\":\", stock_price)\n",
    "    stock_value = stock_price * buy_amount * 1000\n",
    "    print(\"%-22s\"%(\"stock value\"),\":\", stock_value)\n",
    "    account2 = stock_value - stock_value * (fee_ratio * fee_ratio_discount + tax_ratio)\n",
    "    securities_firm_profit += stock_value * fee_ratio * fee_ratio_discount\n",
    "    government_profit = stock_value * tax_ratio\n",
    "    total_tax_fee += stock_value * (fee_ratio * fee_ratio_discount + tax_ratio)\n",
    "    print(\"%-22s\"%(\"fee ratio\"),\":\", stock_value * fee_ratio * fee_ratio_discount)\n",
    "    print(\"%-22s\"%(\"tax ratio\"),\":\", stock_value * tax_ratio)\n",
    "    print()\n",
    "    print(\"%-22s\"%(\"profit\"),\":\", account2)\n",
    "    print(\"==========================================\")\n",
    "    \n",
    "    \n",
    "    print(\"%-22s\"%(\"securities firm profit\"),\":\", securities_firm_profit)\n",
    "    print(\"%-22s\"%(\"government profit\"),\":\", government_profit)\n",
    "    print(\"%-22s\"%(\"total tax fee\"),\":\", total_tax_fee)\n",
    "    print(\"==========================================\")\n",
    "    print(\"%-22s\"%(\"total profit\"),\":\", account2 - account1)\n",
    "    return account2 - account1"
   ]
  },
  {
   "cell_type": "code",
   "execution_count": 4,
   "metadata": {},
   "outputs": [
    {
     "name": "stdout",
     "output_type": "stream",
     "text": [
      "original stock price   : 14\n",
      "original stock value   : 14000\n",
      "fee ratio              : 11.969999999999999\n",
      "\n",
      "cost                   : 14011.97\n",
      "==========================================\n",
      "stock price            : 14.1\n",
      "stock value            : 14100.0\n",
      "fee ratio              : 12.0555\n",
      "tax ratio              : 42.300000000000004\n",
      "\n",
      "profit                 : 14045.6445\n",
      "==========================================\n",
      "securities firm profit : 24.0255\n",
      "government profit      : 42.300000000000004\n",
      "total tax fee          : 66.3255\n",
      "==========================================\n",
      "total profit           : 33.67450000000099\n"
     ]
    },
    {
     "data": {
      "text/plain": [
       "33.67450000000099"
      ]
     },
     "execution_count": 4,
     "metadata": {},
     "output_type": "execute_result"
    }
   ],
   "source": [
    "profit(stock_price=14, \n",
    "       buy_amount=1, \n",
    "       fee_ratio_discount=0.6, \n",
    "       ups_and_downs=0.1)"
   ]
  },
  {
   "cell_type": "code",
   "execution_count": null,
   "metadata": {
    "collapsed": true
   },
   "outputs": [],
   "source": []
  }
 ],
 "metadata": {
  "kernelspec": {
   "display_name": "Python 3",
   "language": "python",
   "name": "python3"
  },
  "language_info": {
   "codemirror_mode": {
    "name": "ipython",
    "version": 3
   },
   "file_extension": ".py",
   "mimetype": "text/x-python",
   "name": "python",
   "nbconvert_exporter": "python",
   "pygments_lexer": "ipython3",
   "version": "3.6.3"
  }
 },
 "nbformat": 4,
 "nbformat_minor": 2
}
